{
 "cells": [
  {
   "cell_type": "markdown",
   "id": "9b492682",
   "metadata": {},
   "source": [
    "# 1. Why are functions advantageous to have in your programs?"
   ]
  },
  {
   "cell_type": "markdown",
   "id": "520aa922",
   "metadata": {},
   "source": [
    "Ans=\n",
    "Functions- reduce need for duplicate code and makes programs short, easy to read, and easy to update"
   ]
  },
  {
   "cell_type": "markdown",
   "id": "ba6ac855",
   "metadata": {},
   "source": [
    "# 2. When does the code in a function run: when it's specified or when it's called?"
   ]
  },
  {
   "cell_type": "markdown",
   "id": "14f71201",
   "metadata": {},
   "source": [
    "\\Ans=\n",
    "code in a function executes when function is called not when function is defined."
   ]
  },
  {
   "cell_type": "markdown",
   "id": "18aba60f",
   "metadata": {},
   "source": [
    "# 3. What statement creates a function?"
   ]
  },
  {
   "cell_type": "markdown",
   "id": "46dca5f1",
   "metadata": {},
   "source": [
    "Ans=\n",
    "the def keyword"
   ]
  },
  {
   "cell_type": "markdown",
   "id": "73a11b3b",
   "metadata": {},
   "source": [
    "# 4. What is the difference between a function and a function call?\n"
   ]
  },
  {
   "cell_type": "markdown",
   "id": "4f607c67",
   "metadata": {},
   "source": [
    "A function consists of the def statement and code in its def clause.\n",
    "\n",
    "A function call is what moves the program execution into the function, and function call evaluates to the function’s return value."
   ]
  },
  {
   "cell_type": "markdown",
   "id": "ba6d1bc4",
   "metadata": {},
   "source": [
    "# 5. How many global scopes are there in a Python program? How many local scopes?"
   ]
  },
  {
   "cell_type": "markdown",
   "id": "c54a2151",
   "metadata": {},
   "source": [
    "only one global Python scope per program execution\n",
    "\n",
    "local scope is created whenever a function is called"
   ]
  },
  {
   "cell_type": "markdown",
   "id": "52ed0c3c",
   "metadata": {},
   "source": [
    "# 6. What happens to variables in a local scope when the function call returns?"
   ]
  },
  {
   "cell_type": "markdown",
   "id": "4b187c99",
   "metadata": {},
   "source": [
    "local scope is destroyed and all the variables in it are forgotten"
   ]
  },
  {
   "cell_type": "markdown",
   "id": "6511d9f6",
   "metadata": {},
   "source": [
    "# 7.What is the concept of a return value? Is it possible to have a return value in an expression?"
   ]
  },
  {
   "cell_type": "markdown",
   "id": "ca6be81c",
   "metadata": {},
   "source": [
    "a value that a function returns to the calling script or function when it completes its task"
   ]
  },
  {
   "cell_type": "markdown",
   "id": "32b958dc",
   "metadata": {},
   "source": [
    "# 8. If a function does not have a return statement, what is the return value of a call to that function?"
   ]
  },
  {
   "cell_type": "markdown",
   "id": "91ef28a3",
   "metadata": {},
   "source": [
    "the return value of the called function is undefined"
   ]
  },
  {
   "cell_type": "markdown",
   "id": "2c2d313b",
   "metadata": {},
   "source": [
    "\n",
    "# 9. How do you make a function variable refer to the global variable"
   ]
  },
  {
   "cell_type": "markdown",
   "id": "5b772071",
   "metadata": {},
   "source": [
    "global statement will force a variable in a function to refer to the global variable"
   ]
  },
  {
   "cell_type": "markdown",
   "id": "2c7767b8",
   "metadata": {},
   "source": [
    "# 10. What is the data type of None?"
   ]
  },
  {
   "cell_type": "markdown",
   "id": "aad61ce7",
   "metadata": {},
   "source": [
    "data type of None is NoneType."
   ]
  },
  {
   "cell_type": "markdown",
   "id": "a205ebbb",
   "metadata": {},
   "source": [
    "# 11. What does the sentence import areallyourpetsnamederic do?"
   ]
  },
  {
   "cell_type": "markdown",
   "id": "6d0ca220",
   "metadata": {},
   "source": [
    "|that import statement imports a module named areallyourpetsnamederic."
   ]
  },
  {
   "cell_type": "markdown",
   "id": "9e245991",
   "metadata": {},
   "source": [
    "# 12. If you had a bacon() feature in a spam module, what would you call it after importing spam?"
   ]
  },
  {
   "cell_type": "markdown",
   "id": "76a54122",
   "metadata": {},
   "source": [
    "This function can be called with spam.bacon()."
   ]
  },
  {
   "cell_type": "markdown",
   "id": "b8dcedb9",
   "metadata": {},
   "source": [
    "# 13. What can you do to save a programme from crashing if it encounters an error?"
   ]
  },
  {
   "cell_type": "markdown",
   "id": "5d2be56c",
   "metadata": {},
   "source": [
    "Place the line of code that might cause an error in a try clause"
   ]
  },
  {
   "cell_type": "markdown",
   "id": "91c330ab",
   "metadata": {},
   "source": [
    "# 14. What is the purpose of the try clause? What is the purpose of the except clause?"
   ]
  },
  {
   "cell_type": "markdown",
   "id": "911fd066",
   "metadata": {},
   "source": [
    "The code that could potentially cause an error goes in the try clause.\n",
    "\n",
    "-The code that executes if an error happens goes in the except clause."
   ]
  },
  {
   "cell_type": "code",
   "execution_count": null,
   "id": "af621ba2",
   "metadata": {},
   "outputs": [],
   "source": []
  }
 ],
 "metadata": {
  "kernelspec": {
   "display_name": "Python 3 (ipykernel)",
   "language": "python",
   "name": "python3"
  },
  "language_info": {
   "codemirror_mode": {
    "name": "ipython",
    "version": 3
   },
   "file_extension": ".py",
   "mimetype": "text/x-python",
   "name": "python",
   "nbconvert_exporter": "python",
   "pygments_lexer": "ipython3",
   "version": "3.10.9"
  }
 },
 "nbformat": 4,
 "nbformat_minor": 5
}
